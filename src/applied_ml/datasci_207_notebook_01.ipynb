{
  "cells": [
    {
      "cell_type": "markdown",
      "metadata": {
        "id": "rHLcriKWLRe4"
      },
      "source": [
        "# Lab 1"
      ]
    },
    {
      "cell_type": "code",
      "execution_count": null,
      "metadata": {
        "id": "7X58hOMTUH-w"
      },
      "outputs": [],
      "source": [
        "# Import the libraries we'll use below.\n",
        "import numpy as np\n",
        "import matplotlib.pyplot as plt"
      ]
    },
    {
      "cell_type": "markdown",
      "metadata": {
        "id": "0nNOD-Z7SzAq"
      },
      "source": [
        "## Data as matrices\n",
        "Data usually comes in the form of matrices. The Python Numpy library makes it easy to manipulate matrices efficiently. See the [Numpy Tutorial](https://docs.scipy.org/doc/numpy/user/quickstart.html) for details."
      ]
    },
    {
      "cell_type": "code",
      "execution_count": null,
      "metadata": {
        "id": "KWlmuAMwTZ3P"
      },
      "outputs": [],
      "source": [
        "# Print these to make sure you understand what is being generated.\n",
        "A: np.ndarray = np.array([1, 2, 3])\n",
        "B: np.ndarray = np.arange(1, 13).reshape(3, 4)\n",
        "C: np.ndarray = np.ones((2, 3))\n",
        "D: np.ndarray = np.eye(3)"
      ]
    },
    {
      "cell_type": "code",
      "source": [
        "A"
      ],
      "metadata": {
        "id": "49xq4v8RQ20-",
        "colab": {
          "base_uri": "https://localhost:8080/"
        },
        "outputId": "e5b3e8b8-0d59-45a7-98ce-e305196804da"
      },
      "execution_count": null,
      "outputs": [
        {
          "output_type": "execute_result",
          "data": {
            "text/plain": [
              "array([1, 2, 3])"
            ]
          },
          "metadata": {},
          "execution_count": 3
        }
      ]
    },
    {
      "cell_type": "code",
      "source": [
        "B"
      ],
      "metadata": {
        "id": "BIBXpAKDQ5DQ",
        "colab": {
          "base_uri": "https://localhost:8080/"
        },
        "outputId": "a51612d7-690c-4833-a87e-52d347b2115b"
      },
      "execution_count": null,
      "outputs": [
        {
          "output_type": "execute_result",
          "data": {
            "text/plain": [
              "array([[ 1,  2,  3,  4],\n",
              "       [ 5,  6,  7,  8],\n",
              "       [ 9, 10, 11, 12]])"
            ]
          },
          "metadata": {},
          "execution_count": 4
        }
      ]
    },
    {
      "cell_type": "code",
      "source": [
        "C"
      ],
      "metadata": {
        "id": "O4fHe9CXRdHk",
        "colab": {
          "base_uri": "https://localhost:8080/"
        },
        "outputId": "4ca89f5c-d8a3-4b49-fde8-b5a49229b75c"
      },
      "execution_count": null,
      "outputs": [
        {
          "output_type": "execute_result",
          "data": {
            "text/plain": [
              "array([[1., 1., 1.],\n",
              "       [1., 1., 1.]])"
            ]
          },
          "metadata": {},
          "execution_count": 5
        }
      ]
    },
    {
      "cell_type": "code",
      "source": [
        "D"
      ],
      "metadata": {
        "id": "aclrjjz8RolO",
        "colab": {
          "base_uri": "https://localhost:8080/"
        },
        "outputId": "a69a0ec1-2433-4d3d-84d1-e7b3b77b9dbf"
      },
      "execution_count": null,
      "outputs": [
        {
          "output_type": "execute_result",
          "data": {
            "text/plain": [
              "array([[1., 0., 0.],\n",
              "       [0., 1., 0.],\n",
              "       [0., 0., 1.]])"
            ]
          },
          "metadata": {},
          "execution_count": 6
        }
      ]
    },
    {
      "cell_type": "markdown",
      "metadata": {
        "id": "T4wvvzKoUIAN"
      },
      "source": [
        "---\n",
        "### Exercise 1: Matrix manipulation (8 points)"
      ]
    },
    {
      "cell_type": "markdown",
      "metadata": {
        "id": "635OApsaPdFe"
      },
      "source": [
        "Perform the following computations using numpy functions and print the results. Note that the `*` operator implies matrix multiplication -- make sure the dimensions align!\n",
        "1. 2A + 1\n",
        "2. Sum the rows of B\n",
        "3. Sum the columns of B\n",
        "4. Number of elements of B greater than 5\n",
        "5. C + C\n",
        "6. A * B\n",
        "7. (B * B) - D"
      ]
    },
    {
      "cell_type": "code",
      "execution_count": null,
      "metadata": {
        "id": "HJtwrjdO6TbS",
        "colab": {
          "base_uri": "https://localhost:8080/"
        },
        "outputId": "aa2a281c-c0c9-478d-82a8-15c4bca790fc"
      },
      "outputs": [
        {
          "output_type": "execute_result",
          "data": {
            "text/plain": [
              "array([3, 5, 7])"
            ]
          },
          "metadata": {},
          "execution_count": 7
        }
      ],
      "source": [
        "# 2A +1\n",
        "2*A + 1"
      ]
    },
    {
      "cell_type": "code",
      "source": [
        "# Sum the rows of B\n",
        "B.sum(axis=1)"
      ],
      "metadata": {
        "id": "jtFCZppXTqGe",
        "colab": {
          "base_uri": "https://localhost:8080/"
        },
        "outputId": "19cdd13c-2bdb-44ff-915b-8d26850ff283"
      },
      "execution_count": null,
      "outputs": [
        {
          "output_type": "execute_result",
          "data": {
            "text/plain": [
              "array([10, 26, 42])"
            ]
          },
          "metadata": {},
          "execution_count": 8
        }
      ]
    },
    {
      "cell_type": "code",
      "source": [
        "# Sum the columns of B\n",
        "B.sum(axis=0)"
      ],
      "metadata": {
        "id": "kKILwywvUwXZ",
        "colab": {
          "base_uri": "https://localhost:8080/"
        },
        "outputId": "9ac1def0-f84c-47f9-d906-25e38567f618"
      },
      "execution_count": null,
      "outputs": [
        {
          "output_type": "execute_result",
          "data": {
            "text/plain": [
              "array([15, 18, 21, 24])"
            ]
          },
          "metadata": {},
          "execution_count": 9
        }
      ]
    },
    {
      "cell_type": "code",
      "source": [
        "# Number of elements of B greater than 5\n",
        "B[B>5].size"
      ],
      "metadata": {
        "id": "ieYyntaqUw01",
        "colab": {
          "base_uri": "https://localhost:8080/"
        },
        "outputId": "6e755d31-4694-413e-8710-b9ad980110b2"
      },
      "execution_count": null,
      "outputs": [
        {
          "output_type": "execute_result",
          "data": {
            "text/plain": [
              "7"
            ]
          },
          "metadata": {},
          "execution_count": 12
        }
      ]
    },
    {
      "cell_type": "code",
      "source": [
        "#C + C\n",
        "C + C"
      ],
      "metadata": {
        "id": "AAySYxXPV7PV",
        "colab": {
          "base_uri": "https://localhost:8080/"
        },
        "outputId": "cef02e84-51c8-4680-9199-3440c58f6727"
      },
      "execution_count": null,
      "outputs": [
        {
          "output_type": "execute_result",
          "data": {
            "text/plain": [
              "array([[2., 2., 2.],\n",
              "       [2., 2., 2.]])"
            ]
          },
          "metadata": {},
          "execution_count": 13
        }
      ]
    },
    {
      "cell_type": "code",
      "source": [
        "#A * B\n",
        "np.matmul(A, B)"
      ],
      "metadata": {
        "id": "70ML30xKWEPR",
        "colab": {
          "base_uri": "https://localhost:8080/"
        },
        "outputId": "01d06bc9-d40f-4fb4-f6d8-24fbeeb782ee"
      },
      "execution_count": null,
      "outputs": [
        {
          "output_type": "execute_result",
          "data": {
            "text/plain": [
              "array([38, 44, 50, 56])"
            ]
          },
          "metadata": {},
          "execution_count": 14
        }
      ]
    },
    {
      "cell_type": "code",
      "source": [
        "# B*B - D\n",
        "np.dot(B, B.T) - D"
      ],
      "metadata": {
        "id": "kHon6JULWeXw",
        "colab": {
          "base_uri": "https://localhost:8080/"
        },
        "outputId": "d30f7afa-7994-4749-e250-50ea8f7266b2"
      },
      "execution_count": null,
      "outputs": [
        {
          "output_type": "execute_result",
          "data": {
            "text/plain": [
              "array([[ 29.,  70., 110.],\n",
              "       [ 70., 173., 278.],\n",
              "       [110., 278., 445.]])"
            ]
          },
          "metadata": {},
          "execution_count": 15
        }
      ]
    },
    {
      "cell_type": "markdown",
      "metadata": {
        "id": "irNY9pmRPdFf"
      },
      "source": [
        "---"
      ]
    },
    {
      "cell_type": "markdown",
      "metadata": {
        "id": "xbCRG2-uUKCT"
      },
      "source": [
        "## Data for Supervised Learning\n",
        "Supervised learning is all about learning to make predictions: given an input $x$ (e.g. home square footage), can we produce an output $\\hat{y}$ (e.g. estimated value) as close to the actual observed output $y$ (e.g. sale price) as possible. Note that the \"hat\" above $y$ is used to denote an estimated or predicted value.\n",
        "\n",
        "Let's start by generating some artificial data. We'll create a vector of inputs, $X$, and a corresponding vector of target outputs $Y$. In general, we'll refer to invidual examples with a lowercase ($x$), and a vector or matrix containing multiple examples with a capital ($X$)."
      ]
    },
    {
      "cell_type": "code",
      "execution_count": null,
      "metadata": {
        "id": "Ulmn_bFdU87t"
      },
      "outputs": [],
      "source": [
        "from typing import Tuple, List, Dict\n",
        "\n",
        "def create_1d_data(\n",
        "    num_examples: int=10,\n",
        "    w: int=2,\n",
        "    b: int=1,\n",
        "    random_scale: int=1,\n",
        "    random_seed: int=4\n",
        ") -> Tuple[np.ndarray, np.ndarray]:\n",
        "  \"\"\"Create X, Y data with a linear relationship with added noise.\n",
        "\n",
        "  Args:\n",
        "    num_examples: number of examples to generate\n",
        "    w: desired slope\n",
        "    b: desired intercept\n",
        "    random_scale: add uniform noise between -random_scale and +random_scale\n",
        "\n",
        "  Returns:\n",
        "    X and Y with shape (num_examples)\n",
        "  \"\"\"\n",
        "  X: np.ndarray = np.arange(num_examples)\n",
        "  np.random.seed(random_seed)  # consistent random number generation\n",
        "  deltas = np.random.uniform(low=-random_scale, high=random_scale, size=X.shape)\n",
        "  Y: np.ndarray = b + deltas + w * X\n",
        "  return X, Y"
      ]
    },
    {
      "cell_type": "code",
      "execution_count": null,
      "metadata": {
        "id": "6qJg0IiYVJ8U",
        "colab": {
          "base_uri": "https://localhost:8080/",
          "height": 265
        },
        "outputId": "b0968854-67b6-4b0b-b037-b0c6d61fc25c"
      },
      "outputs": [
        {
          "output_type": "display_data",
          "data": {
            "text/plain": [
              "<Figure size 432x288 with 1 Axes>"
            ],
            "image/png": "[encoded data removed]"
          },
          "metadata": {
            "needs_background": "light"
          }
        }
      ],
      "source": [
        "# Create some artificial data using create_1d_data.\n",
        "X, Y = create_1d_data()\n",
        "plt.scatter(X, Y, color='black')\n",
        "plt.show()"
      ]
    },
    {
      "cell_type": "markdown",
      "metadata": {
        "id": "W6coKbXSpXOz"
      },
      "source": [
        "---\n",
        "### Exercise 2: Models for Data (8 points)"
      ]
    },
    {
      "cell_type": "markdown",
      "metadata": {
        "id": "Pu0aPAZOPdFj"
      },
      "source": [
        "A model is a function that takes an input $x$ and produces a prediction $\\hat{y}$.\n",
        "\n",
        "Let's consider two possible models for this data:\n",
        "1. $M_1(x) = x+5$\n",
        "2. $M_2(x) = 2x+1$\n",
        "\n",
        "Compute the predictions of models $M_1$ and $M_2$ for the values in $X$. These predictions should be vectors of the same shape as $Y$. Then plot the prediction lines of these two models overlayed on the \"observed\" data $(X, Y)$. Use [plt.plot()](https://matplotlib.org/api/_as_gen/matplotlib.pyplot.plot.html) to draw the lines."
      ]
    },
    {
      "cell_type": "code",
      "execution_count": null,
      "metadata": {
        "id": "AHIY5kNXUIAP"
      },
      "outputs": [],
      "source": [
        "# Create Models\n",
        "M1: np.ndarray = X + 5\n",
        "M2: np.ndarray = 2*X + 1"
      ]
    },
    {
      "cell_type": "code",
      "source": [
        "# Validate Shapes\n",
        "(M1.shape == Y.shape) & (M2.shape == Y.shape)"
      ],
      "metadata": {
        "colab": {
          "base_uri": "https://localhost:8080/"
        },
        "id": "I9cSXMo_bjSp",
        "outputId": "bca89b51-1f5d-4fb8-dd16-ab240b48c8e4"
      },
      "execution_count": null,
      "outputs": [
        {
          "output_type": "execute_result",
          "data": {
            "text/plain": [
              "True"
            ]
          },
          "metadata": {},
          "execution_count": 59
        }
      ]
    },
    {
      "cell_type": "code",
      "source": [
        "# Model outputs\n",
        "plt.scatter(X, Y, label=\"Data\", color=\"black\");\n",
        "plt.plot(X, M1, label=\"Model 1\", color=\"green\");\n",
        "plt.plot(X, M2, label=\"Model 2\", color=\"red\");\n",
        "plt.legend(loc=\"upper left\");"
      ],
      "metadata": {
        "colab": {
          "base_uri": "https://localhost:8080/",
          "height": 265
        },
        "id": "F9i3TWbMcIaj",
        "outputId": "bc09bf9e-f309-40b4-c9f3-ae1e0c78ac94"
      },
      "execution_count": null,
      "outputs": [
        {
          "output_type": "display_data",
          "data": {
            "text/plain": [
              "<Figure size 432x288 with 1 Axes>"
            ],
            "image/png": "[encoded data removed]"
          },
          "metadata": {
            "needs_background": "light"
          }
        }
      ]
    },
    {
      "cell_type": "markdown",
      "metadata": {
        "id": "dDYca4QDPdFk"
      },
      "source": [
        "---"
      ]
    },
    {
      "cell_type": "markdown",
      "metadata": {
        "id": "NH-0soZiWx9x"
      },
      "source": [
        "## Evaluation Metrics\n",
        "\n",
        "How good are our models? Intuitively, the better the model, the more closely it fits the data we have. That is, for each $x$, we'll compare $y$, the true value, with $\\hat{y}$, the predicted value. This comparison is often called the *loss* or the *error*. One common such comparison is *squared error*: $(y-\\hat{y})^2$. Averaging over all our data points, we get the *mean squared error*:\n",
        "\n",
        "\\begin{equation}\n",
        "\\textit{MSE} = \\frac{1}{|Y|} \\sum_{y_i \\in Y}(y_i - \\hat{y}_i)^2\n",
        "\\end{equation}"
      ]
    },
    {
      "cell_type": "markdown",
      "metadata": {
        "id": "_AyY2DpxYLI0"
      },
      "source": [
        "---\n",
        "### Exercise 3: Computing MSE (8 points)"
      ]
    },
    {
      "cell_type": "markdown",
      "metadata": {
        "id": "kreL7iztPdFl"
      },
      "source": [
        "Write a function for computing the MSE metric and use it to compute the MSE for the two models above, $M_1$ and $M_2$."
      ]
    },
    {
      "cell_type": "code",
      "execution_count": null,
      "metadata": {
        "id": "uCeAfI5mW9sg"
      },
      "outputs": [],
      "source": [
        "def MSE(true_values: np.ndarray, predicted_values: np.ndarray) -> float:\n",
        "  \"\"\"Compute MSE (Mean Squared Error) based on actual and predicted values.\n",
        "\n",
        "  Args:\n",
        "    true_values (np.ndarray): A numpy array of actual values\n",
        "    predicted_values (np.ndarray): A numpy array of predicted values by the model\n",
        "\n",
        "  Returns:\n",
        "    The MSE of the predicted values with respect to the actual values\n",
        "  \"\"\"\n",
        "  return np.square(np.subtract(true_values,predicted_values)).mean()\n"
      ]
    },
    {
      "cell_type": "code",
      "execution_count": null,
      "metadata": {
        "id": "uF-x9DI2ZOKq",
        "colab": {
          "base_uri": "https://localhost:8080/"
        },
        "outputId": "4f02400f-5e40-4641-b023-a3e45aa01039"
      },
      "outputs": [
        {
          "output_type": "stream",
          "name": "stdout",
          "text": [
            "MSE for M1: 6.839502909434264\n",
            "MSE for M2: 0.45821672338761366\n"
          ]
        }
      ],
      "source": [
        "print ('MSE for M1:', MSE(Y, M1))\n",
        "print ('MSE for M2:', MSE(Y, M2))"
      ]
    },
    {
      "cell_type": "markdown",
      "metadata": {
        "id": "V4aCgxmVPdFm"
      },
      "source": [
        "---"
      ]
    },
    {
      "cell_type": "markdown",
      "metadata": {
        "id": "eDiy3OZwZlwj"
      },
      "source": [
        "## Generalization\n",
        "\n",
        "Our data $(X, Y)$ represents just a sample of all possible input-output pairs we might care about. A model will be useful to the extent we can apply it to new inputs. Consider the more complex model below, which appears to produce a much smaller mean squared error."
      ]
    },
    {
      "cell_type": "code",
      "execution_count": null,
      "metadata": {
        "id": "ns1siZ9DZvSY"
      },
      "outputs": [],
      "source": [
        "# Fit an 8-th degree polynomial to (X, Y). See np.polyfit for details.\n",
        "polynomial_model_coefficients: np.ndarray = np.polyfit(X, Y, deg=8)\n",
        "polynomial_model: np.poly1d = np.poly1d(polynomial_model_coefficients)\n",
        "M3: np.ndarray = polynomial_model(X)"
      ]
    },
    {
      "cell_type": "code",
      "source": [
        "fig = plt.scatter(X, Y, label=\"data\", color=\"black\")\n",
        "plt.plot(X, M3, '-k', label=\"Model 3\", color=\"orange\")\n",
        "print ('MSE for M3:', MSE(Y, M3))"
      ],
      "metadata": {
        "colab": {
          "base_uri": "https://localhost:8080/",
          "height": 282
        },
        "id": "-9CtsT_Anwwo",
        "outputId": "da6d6db9-3451-4ae8-9497-e347c3729a26"
      },
      "execution_count": null,
      "outputs": [
        {
          "output_type": "stream",
          "name": "stdout",
          "text": [
            "MSE for M3: 0.10941956925529832\n"
          ]
        },
        {
          "output_type": "display_data",
          "data": {
            "text/plain": [
              "<Figure size 432x288 with 1 Axes>"
            ],
            "image/png": "[encoded data removed]"
          },
          "metadata": {
            "needs_background": "light"
          }
        }
      ]
    },
    {
      "cell_type": "markdown",
      "metadata": {
        "id": "M2m9YmLMZ1EV"
      },
      "source": [
        "---\n",
        "### Exercise 4: Generalization (8 points)"
      ]
    },
    {
      "cell_type": "markdown",
      "metadata": {
        "id": "ZMPXS3u7PdFn"
      },
      "source": [
        "Explain whether you expect $M_3$ to be better than $M_2$ at predicting the labels for new unseen inputs."
      ]
    },
    {
      "cell_type": "markdown",
      "metadata": {
        "id": "h0Zpx79_aQEC"
      },
      "source": [
        "*Writen answer:*\n",
        "\n",
        "M3 will not perform better than M2 at prediciting labels for unseen inputs. This is because M3 overfits on the data and is not expected to perform well on new / unseen inputs. It has low generalization. We can confirm this by running the `create_ld_data` on a larger sample and applying the models back"
      ]
    },
    {
      "cell_type": "markdown",
      "source": [
        "Performance over many random seeds:"
      ],
      "metadata": {
        "id": "d12-j9Zqo0F1"
      }
    },
    {
      "cell_type": "code",
      "source": [
        "# Create some artificial data using create_1d_data.\n",
        "\n",
        "model_performance: List[Tuple[float, float]] = []\n",
        "\n",
        "for seed_x in range(1,1000):\n",
        "  X_test, Y_test = create_1d_data(num_examples=10, random_seed=seed_x)\n",
        "  M2_test: np.ndarray = 2*X_test + 1\n",
        "  M3_test: np.ndarray = polynomial_model(X_test)\n",
        "  mse_m2 = MSE(Y_test, M2_test)\n",
        "  mse_m3 = MSE(Y_test, M3_test)\n",
        "  model_performance.append([mse_m2, mse_m3])"
      ],
      "metadata": {
        "id": "6KqXjJbPo58N"
      },
      "execution_count": null,
      "outputs": []
    },
    {
      "cell_type": "code",
      "source": [
        "plt.scatter(range(1,1000), [x[0] for x in model_performance], label=\"M2 MSE\", color=\"red\");\n",
        "plt.scatter(range(1,1000), [x[1] for x in model_performance], label=\"M3 MSE\", color=\"orange\");\n",
        "plt.legend(loc=\"upper left\");"
      ],
      "metadata": {
        "colab": {
          "base_uri": "https://localhost:8080/",
          "height": 265
        },
        "id": "Ci-sZvOGpXT1",
        "outputId": "86d7a325-4ab1-45b1-d901-6f82b5d8ec62"
      },
      "execution_count": null,
      "outputs": [
        {
          "output_type": "display_data",
          "data": {
            "text/plain": [
              "<Figure size 432x288 with 1 Axes>"
            ],
            "image/png": "[encoded data removed]"
          },
          "metadata": {
            "needs_background": "light"
          }
        }
      ]
    },
    {
      "cell_type": "code",
      "source": [
        "print(\"Average MSE for Model 2: \", np.mean([x[0] for x in model_performance]))\n",
        "print(\"Average MSE for Model 3: \", np.mean([x[1] for x in model_performance]))"
      ],
      "metadata": {
        "colab": {
          "base_uri": "https://localhost:8080/"
        },
        "id": "sH6xfydwrWOE",
        "outputId": "5d8153be-1260-4cf4-8960-ba788fbd8d97"
      },
      "execution_count": null,
      "outputs": [
        {
          "output_type": "stream",
          "name": "stdout",
          "text": [
            "Average MSE for Model 2:  0.33320666168058016\n",
            "Average MSE for Model 3:  0.6841837105462756\n"
          ]
        }
      ]
    },
    {
      "cell_type": "markdown",
      "source": [
        "After several random iterations, we note that:\n",
        "\n",
        "* The average MSE for model 2 is less than model 3\n",
        "* The variance of MSE for model 3 is greater than model 2\n",
        "\n",
        "This means M2 generalizes better across an entire simulation of random points compared to M3"
      ],
      "metadata": {
        "id": "ckwpsNE6qIhM"
      }
    },
    {
      "cell_type": "markdown",
      "metadata": {
        "id": "6hIdZHngdrET"
      },
      "source": [
        "## Review\n",
        "\n",
        "* In **Supervised Machine Learning**, we must start with data in the form $(X,Y)$ where $X$ are the inputs and $Y$ are the output labels.\n",
        "* A **model** is a function that maps an input $x$ to an output $y$. The model's output is referred to as a **prediction**, denoted by $\\hat{y}$.\n",
        "* We **evaluate** predictions by comparing them to the true labels. This measurement is called a **loss** or **error**. For real-valued data, **mean squared error** is a common metric.\n",
        "* A model is only as good as its ability to **generalize** to new examples."
      ]
    }
  ],
  "metadata": {
    "colab": {
      "provenance": []
    },
    "kernelspec": {
      "display_name": "Python 3",
      "language": "python",
      "name": "python3"
    },
    "language_info": {
      "codemirror_mode": {
        "name": "ipython",
        "version": 3
      },
      "file_extension": ".py",
      "mimetype": "text/x-python",
      "name": "python",
      "nbconvert_exporter": "python",
      "pygments_lexer": "ipython3",
      "version": "3.8.3"
    },
    "gpuClass": "standard"
  },
  "nbformat": 4,
  "nbformat_minor": 0
}